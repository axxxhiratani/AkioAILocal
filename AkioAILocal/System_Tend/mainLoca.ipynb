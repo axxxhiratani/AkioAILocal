{
 "cells": [
  {
   "cell_type": "code",
   "execution_count": 175,
   "metadata": {},
   "outputs": [],
   "source": [
    "import pandas as pd \n",
    "import requests\n",
    "from bs4 import BeautifulSoup \n",
    "import re\n",
    "from tqdm import tqdm as tqdm\n",
    "\n",
    "\n",
    "class Race:\n",
    "    def __init__(self,log_place,log_cord,log_ground,log_meter,src,road,url_topic,month):\n",
    "        self.log_place = log_place\n",
    "        self.log_cord = log_cord\n",
    "        self.log_ground = log_ground\n",
    "        self.log_meter = log_meter\n",
    "        self.src = src\n",
    "        self.road = road\n",
    "        self.url_topic = url_topic\n",
    "        self.month = month\n",
    "        \n",
    "        \n",
    "        self.data_max = pd.DataFrame([ [0]],\n",
    "                    columns = [\"max\"],\n",
    "                    index = [1])\n",
    "        self.data_max[\"max\"][1] = 0\n",
    "        \n",
    "        self.maxinfoExp = pd.DataFrame([ [1,0]],\n",
    "                    columns = [\"max\",\"min\"],\n",
    "                    index = [\"a\",\"b\",\"c\",\"d\",\"e\",\"f\",\"g\",\"h\",\"k\"])\n",
    "        \n",
    "        \n",
    "#トピックのurlを返す\n",
    "    def get_topic(self):\n",
    "        return self.race_id_list       \n",
    "        \n",
    "        \n",
    "#指定されたコースのurlを返す\n",
    "    def get_link(self):\n",
    "        return self.race_id_lists\n",
    "    \n",
    "#指定されたコースurl更新\n",
    "    def set_link(self,changeUrl):\n",
    "        self.race_id_lists = changeUrl\n",
    "    \n",
    "#  レースのurlリストを返す   \n",
    "    def get_link_exp(self):\n",
    "        return self.race_id_lists_exp\n",
    "    \n",
    "# トピックurlを返す    \n",
    "    def get_url_topic(self):\n",
    "        return self.url_topic\n",
    "    \n",
    "    def get_preser_name(self):\n",
    "        return self.preser_name\n",
    "        \n",
    "    \n",
    "    \n",
    "    \n",
    "    \n",
    "    \n",
    "#     馬場と距離を返す。距離適正で使う\n",
    "    def get_ground(self,plus):\n",
    "        return self.log_ground + str(int(self.log_meter) + plus)\n",
    "    \n",
    "    \n",
    "    def getURLTopic(self):\n",
    "        #         トピックのurl取得\n",
    "        response = requests.get(self.url_topic)\n",
    "        soup = BeautifulSoup(response.text, 'html.parser')\n",
    "        table = soup.find('table',class_=\"All_Special_Table\")\n",
    "        self.race_id_list = [] \n",
    "        for tr in table.findAll(\"tr\"):\n",
    "            trs = tr.findAll(\"td\",class_=\"race_name Txt_Bold Txt_L\")\n",
    "            cnt = 0\n",
    "            for each in trs:\n",
    "                try:\n",
    "                    link = each.find('a')['href']\n",
    "                    self.race_id_list.append(link)\n",
    "                    cnt = cnt + 1\n",
    "                except:\n",
    "                    pass\n",
    "\n",
    "    \n",
    "        \n",
    "    def get_url(self):\n",
    "                \n",
    "#         指定されたコースのurl取得            \n",
    "        start_month = int(self.month)\n",
    "        end_month = int(self.month) + 3\n",
    "        \n",
    "        if(end_month >13):\n",
    "            start_month = 9\n",
    "            end_month = 13\n",
    "            \n",
    "        self.race_id_lists = []\n",
    "        for age in tqdm(range(2010,2020,1)):\n",
    "            for place in range(self.log_cord,self.log_cord+1,1):\n",
    "                for kai in (range(start_month,end_month,1)):\n",
    "                    for day in range(1,31,1):     \n",
    "                         for r in range(9,12,1):\n",
    "                            try:\n",
    "\n",
    "                                race_id = \"https://db.netkeiba.com/race/\"+ str(age).zfill(2) + str(place).zfill(2) + str(kai).zfill(2) + str(day).zfill(2)+ str(r).zfill(2)+  \"/\"\n",
    "                                url = race_id\n",
    "                                df = pd.read_html(url)[0]\n",
    "                                \n",
    "                                x = self.log_place\n",
    "                                df = pd.read_html(url)[0]\n",
    "\n",
    "                                response = requests.get(url)\n",
    "                                response.encoding = \"EUC-JP\"\n",
    "                                soup = BeautifulSoup(response.text, 'html.parser')\n",
    "                                div = soup.find('div',class_ = \"data_intro\")\n",
    "                                filed = div.find('span')   \n",
    "                                y = str(filed)[6:14]\n",
    "                                \n",
    "                                #koko\n",
    "                                if(x == self.log_place and y.startswith(self.log_ground,0,len(y)) and y.startswith(self.road,1,len(y)) and y.startswith(str(self.log_meter),self.src,len(y))):\n",
    "                                    self.race_id_lists.append(race_id)  \n",
    "                            except:\n",
    "                                continue\n",
    "\n",
    "\n",
    "\n",
    "class Tend:\n",
    "\n",
    "    def __init__(self):\n",
    "        \n",
    "        self.averageTime = 0\n",
    "        self.averageTimeCnt = 0\n",
    "        \n",
    "        \n",
    "        \n",
    "        \n",
    "        self.data_frame = pd.DataFrame([ [0,0,0,0,0,0,0,0]],\n",
    "                    columns = [\"枠\",\"枠勝率\",\"年齢\",\"年齢勝率\",\"人気\",\"人気勝率\",\"馬番\",\"馬番勝率\"],\n",
    "                    index = [1,2,3,4,5,6,7,8,9,10,11,12,13,14,15,16,17,18])\n",
    "        self.data_jockey = pd.DataFrame({'name':[],\n",
    "                                        'cnt':[],\n",
    "                                        '勝率':[],\n",
    "                                        })\n",
    "        self.data_blood = pd.DataFrame({'name':[],\n",
    "                                        'cnt':[],\n",
    "                                        '勝率':[],\n",
    "                                        })\n",
    "        self.data_prev = pd.DataFrame({'name':[],\n",
    "                                        'cnt':[],\n",
    "                                        '勝率':[],\n",
    "                                        })\n",
    "        \n",
    "        self.timeInfo = pd.DataFrame([ [0]],\n",
    "                        columns = [\"time\"],\n",
    "                        index = [1])\n",
    "        \n",
    "        \n",
    "    def getAverageTime(self):\n",
    "        try:\n",
    "            return self.averageTime / self.averageTimeCnt\n",
    "        except:\n",
    "            return 0\n",
    "\n",
    "    \n",
    "    \n",
    "    #timeの値をセッティング\n",
    "    def setTime(self):\n",
    "        self.timeInfo.loc[1,\"time\"] = self.getAverageTime()\n",
    "    \n",
    "\n",
    "\n",
    "    def create_tend(self,race_id_lists):\n",
    "        \n",
    "        for i in tqdm(range(0,len(race_id_lists),1)):\n",
    "            try:\n",
    "                url = race_id_lists[i]\n",
    "                \n",
    "                dfs = pd.read_html(url)[0]\n",
    "                data = pd.read_html(url,header=0)[0]\n",
    "                \n",
    "                response = requests.get(url)\n",
    "                soup = BeautifulSoup(response.text, 'html.parser')\n",
    "                table = soup.find('table')\n",
    "                links = []\n",
    "                for tr in table.findAll(\"tr\"):\n",
    "\n",
    "                    try:\n",
    "                        link = tr.find_all(href=re.compile(\"^/horse\"))\n",
    "\n",
    "                        if(len(link) != 0):\n",
    "                            link = \"https://db.netkeiba.com\" + str(link)[10:28]\n",
    "                            links.append(link)\n",
    "\n",
    "                    except:\n",
    "                        pass\n",
    "                \n",
    "                data['HorseLink'] = links\n",
    "                \n",
    "                #日時の保存\n",
    "                z = str(url)\n",
    "                z = z[29:33] + \"/\" + z[35:37] + \"/\" + z[37:39]\n",
    "                \n",
    "    #血統と前走を保存\n",
    "                blood_1 = []\n",
    "                blood_2 = []\n",
    "                prev_game = []\n",
    "                for x in data['HorseLink']:\n",
    "                    \n",
    "                    blood = pd.read_html(x)[2]\n",
    "                    blood_1.append(blood[0][0])\n",
    "                    blood_2.append(blood[1][2])\n",
    "                    \n",
    "                    \n",
    "                    try:\n",
    "                        game = pd.read_html(x)[3]\n",
    "\n",
    "\n",
    "                        for cnt_age in range(0,len(game),1):\n",
    "\n",
    "                            if (game[\"日付\"][cnt_age].startswith(z,0,len(game[\"日付\"][cnt_age])) ):\n",
    "                                break\n",
    "\n",
    "                        prev_game.append(game[\"レース名\"][cnt_age+1])\n",
    "                        \n",
    "                    except:\n",
    "                        game = pd.read_html(x)[4]\n",
    "\n",
    "                        for cnt_age in range(0,len(game),1):\n",
    "\n",
    "                            if (game[\"日付\"][cnt_age].startswith(z,0,len(game[\"日付\"][cnt_age])) ):\n",
    "                                break\n",
    "\n",
    "                        prev_game.append(game[\"レース名\"][cnt_age+1])\n",
    "                        \n",
    "                    \n",
    "                \n",
    "                data['blood_1'] = blood_1\n",
    "                data['blood_2'] = blood_2\n",
    "                data['前走大会'] = prev_game\n",
    "                \n",
    "\n",
    "            except:\n",
    "                continue\n",
    "                \n",
    "            for x,y,z,n,p,j,un,bl_1,bl_2,pg,tm in zip(data['着順'],data['枠番'],data['馬名'],data['性齢'],data[\"人気\"],data['騎手'],data['馬番'],data['blood_1'],data['blood_2'],data['前走大会'],data['タイム']):\n",
    "                try:\n",
    "                    flg = 0\n",
    "                    for ab in self.data_jockey[\"name\"]:\n",
    "                        if(ab == j):\n",
    "                            flg = 1\n",
    "                            break\n",
    "\n",
    "\n",
    "                    if(flg == 1):\n",
    "                        self.data_jockey.loc[j,\"勝率\"] = self.data_jockey.loc[j,\"勝率\"]+1\n",
    "\n",
    "                    else:\n",
    "                        self.data_jockey.loc[j,:]= [j,0,1]\n",
    "\n",
    "\n",
    "\n",
    "\n",
    "                    flg = 0\n",
    "                    for ab in self.data_blood[\"name\"]:\n",
    "                        if(ab == bl_1):\n",
    "                            flg = 1\n",
    "                            break\n",
    "\n",
    "                    if(flg == 1):\n",
    "                        self.data_blood.loc[bl_1,\"勝率\"] = self.data_blood.loc[bl_1,\"勝率\"]+1\n",
    "\n",
    "                    else:\n",
    "                        self.data_blood.loc[bl_1,:]= [bl_1,0,1]\n",
    "\n",
    "\n",
    "                    flg = 0\n",
    "                    for ab in self.data_blood[\"name\"]:\n",
    "                        if(ab == bl_2):\n",
    "                            flg = 1\n",
    "                            break\n",
    "\n",
    "\n",
    "                    if(flg == 1):\n",
    "                            self.data_blood.loc[bl_2,\"勝率\"] = self.data_blood.loc[bl_2,\"勝率\"]+1\n",
    "\n",
    "                    else:\n",
    "                        self.data_blood.loc[bl_2,:]= [bl_2,0,1]\n",
    "                        \n",
    "                        \n",
    "                    flg = 0\n",
    "                    for ab in self.data_prev[\"name\"]:\n",
    "                        if(ab == pg):\n",
    "                            flg = 1\n",
    "                            break\n",
    "\n",
    "\n",
    "                    if(flg == 1):\n",
    "                            self.data_prev.loc[pg,\"勝率\"] = self.data_prev.loc[pg,\"勝率\"]+1\n",
    "\n",
    "                    else:\n",
    "                        self.data_prev.loc[pg,:]= [pg,0,1]\n",
    "\n",
    "\n",
    "\n",
    "                        \n",
    "                        \n",
    "\n",
    "                    if(int(x) <= 3):\n",
    "                        self.data_frame.loc[y,\"枠\"] = self.data_frame.loc[y,\"枠\"] + 1\n",
    "                        self.data_frame.loc[int(n[1]),\"年齢\"] = self.data_frame.loc[int(n[1]),\"年齢\"] +1\n",
    "                        self.data_frame.loc[p,\"人気\"] = self.data_frame.loc[p,\"人気\"] + 1\n",
    "                        self.data_frame.loc[un,\"馬番\"] = self.data_frame.loc[un,\"馬番\"] + 1\n",
    "                        \n",
    "                        #タイム計測\n",
    "                        data = re.findall(\"[0-9]\",tm)\n",
    "                        time = int(data[0])*60 + int(data[1])*10 + int(data[2]) + int(data[0])*0.1\n",
    "                        self.averageTime = self.averageTime + time\n",
    "                        self.averageTimeCnt = self.averageTimeCnt + 1\n",
    "                        \n",
    "\n",
    "                        \n",
    "                        #jockey更新\n",
    "                        flg = 0\n",
    "                        for ab in self.data_jockey[\"name\"]:\n",
    "                            if(ab == j):\n",
    "                                flg = 1\n",
    "                                break\n",
    "\n",
    "\n",
    "                        if(flg == 1):\n",
    "                            self.data_jockey.loc[j,\"cnt\"] = self.data_jockey.loc[j,\"cnt\"]+1\n",
    "\n",
    "\n",
    "\n",
    "                        #血統更新1\n",
    "                        flg = 0\n",
    "                        for ab in self.data_blood[\"name\"]:\n",
    "                            if(ab == bl_1):\n",
    "                                flg = 1\n",
    "                                break\n",
    "\n",
    "\n",
    "                        if(flg == 1):\n",
    "                            self.data_blood.loc[bl_1,\"cnt\"] = self.data_blood.loc[bl_1,\"cnt\"]+1\n",
    "\n",
    "                        #血統更新2\n",
    "                        flg = 0\n",
    "                        for ab in self.data_blood[\"name\"]:\n",
    "                            if(ab == bl_2):\n",
    "                                flg = 1\n",
    "                                break\n",
    "\n",
    "\n",
    "                        if(flg == 1):\n",
    "                            self.data_blood.loc[bl_2,\"cnt\"] = self.data_blood.loc[bl_2,\"cnt\"]+1\n",
    "                            \n",
    "                        #前走更新\n",
    "                        flg = 0\n",
    "                        for ab in self.data_prev[\"name\"]:\n",
    "                            if(ab == pg):\n",
    "                                flg = 1\n",
    "                                break\n",
    "\n",
    "\n",
    "                        if(flg == 1):\n",
    "                            self.data_prev.loc[pg,\"cnt\"] = self.data_prev.loc[pg,\"cnt\"]+1\n",
    "\n",
    "\n",
    "\n",
    "\n",
    "                    self.data_frame.loc[y,\"枠勝率\"] = self.data_frame.loc[y,\"枠勝率\"] + 1\n",
    "                    self.data_frame.loc[un,\"馬番勝率\"] = self.data_frame.loc[un,\"馬番勝率\"] + 1\n",
    "                    self.data_frame.loc[p,\"人気勝率\"] = self.data_frame.loc[p,\"人気勝率\"] + 1\n",
    "                    self.data_frame.loc[int(n[1]),\"年齢勝率\"] = self.data_frame.loc[int(n[1]),\"年齢勝率\"] + 1\n",
    "\n",
    "                except:\n",
    "                    continue\n",
    "\n",
    "                \n",
    "\n",
    "\n",
    "        for i,j in zip(self.data_jockey[\"cnt\"],self.data_jockey[\"name\"]):\n",
    "            self.data_jockey.loc[j,\"勝率\"] = (self.data_jockey.loc[j,\"cnt\"] / self.data_jockey.loc[j,\"勝率\"])*100\n",
    "\n",
    "\n",
    "        for i,j in zip(self.data_blood[\"cnt\"],self.data_blood[\"name\"]):\n",
    "            self.data_blood.loc[j,\"勝率\"] = (self.data_blood.loc[j,\"cnt\"] / self.data_blood[\"cnt\"].sum())*100\n",
    "\n",
    "        for i,j in zip(self.data_prev[\"cnt\"],self.data_prev[\"name\"]):\n",
    "            self.data_prev.loc[j,\"勝率\"] = (self.data_prev.loc[j,\"cnt\"] / self.data_prev[\"cnt\"].sum())*100\n",
    "\n",
    "\n",
    "            \n",
    "            \n",
    "            \n",
    "        for i in range(1,len(self.data_frame)+1,1):\n",
    "            self.data_frame.loc[i,\"枠勝率\"] = (self.data_frame.loc[i,\"枠\"] / self.data_frame.loc[i,\"枠勝率\"])*100\n",
    "            self.data_frame.loc[i,\"年齢勝率\"] = (self.data_frame.loc[i,\"年齢\"] / self.data_frame.loc[i,\"年齢勝率\"])*100\n",
    "            self.data_frame.loc[i,\"人気勝率\"] = (self.data_frame.loc[i,\"人気\"] / self.data_frame.loc[i,\"人気勝率\"])*100 \n",
    "            self.data_frame.loc[i,\"馬番勝率\"] = (self.data_frame.loc[i,\"馬番\"] / self.data_frame.loc[i,\"馬番勝率\"])*100 \n",
    "\n",
    "\n",
    "\n",
    "\n",
    "\n",
    "        with pd.ExcelWriter(\"log.xlsx\") as writer:\n",
    "            self.data_frame.to_excel(writer, sheet_name='sheet1')\n",
    "            self.data_jockey.to_excel(writer, sheet_name='sheet2')\n",
    "            self.data_blood.to_excel(writer, sheet_name='sheet3')\n",
    "            self.data_prev.to_excel(writer, sheet_name='sheet4')\n",
    "\n",
    "\n",
    "\n",
    "        self.data_frame = pd.read_excel(\"log.xlsx\",\"sheet1\")\n",
    "        self.data_jockey = pd.read_excel(\"log.xlsx\",\"sheet2\")\n",
    "        self.data_blood= pd.read_excel(\"log.xlsx\",\"sheet3\")\n",
    "        self.data_prev= pd.read_excel(\"log.xlsx\",\"sheet4\")\n",
    "        # race_name = dfs[\"レース名\"][0]    \n",
    "\n",
    "\n",
    "    def vlookup(self,case,value):\n",
    "        result = 0\n",
    "        if(case == 1):\n",
    "            for number,average in zip(self.data_frame[\"Unnamed: 0\"],self.data_frame[\"枠勝率\"]):\n",
    "                try: \n",
    "                    if(number == value):\n",
    "                                result = average\n",
    "                                break\n",
    "                except:\n",
    "                    continue\n",
    "        elif(case == 2):\n",
    "            for number,average in zip(self.data_frame[\"Unnamed: 0\"],self.data_frame[\"年齢勝率\"]):\n",
    "                try: \n",
    "                    if(number == value):\n",
    "                                result = average\n",
    "                                break\n",
    "                except:\n",
    "                    continue      \n",
    "\n",
    "        elif(case == 3):\n",
    "            for number,average in zip(self.data_frame[\"Unnamed: 0\"],self.data_frame[\"人気勝率\"]):\n",
    "                try: \n",
    "                    if(number == value):\n",
    "                                result = average\n",
    "                                break\n",
    "                except:\n",
    "                    continue    \n",
    "        elif(case == 4):\n",
    "            for number,average in zip(self.data_jockey[\"Unnamed: 0\"],self.data_jockey[\"勝率\"]):\n",
    "                try: \n",
    "                    if(number == value):\n",
    "                                result = average\n",
    "                                break\n",
    "                except:\n",
    "                    continue    \n",
    "\n",
    "        elif(case == 5):\n",
    "            for number,average in zip(self.data_frame[\"Unnamed: 0\"],self.data_frame[\"馬番勝率\"]):\n",
    "                try: \n",
    "                    if(number == value):\n",
    "                                result = average\n",
    "                                break\n",
    "                except:\n",
    "                    continue\n",
    "\n",
    "\n",
    "        elif(case == 6):\n",
    "            for number,average in zip(self.data_blood[\"name\"],self.data_blood[\"勝率\"]):\n",
    "                try: \n",
    "                    if(number == value):\n",
    "                                result = average\n",
    "                                break\n",
    "                except:\n",
    "                    continue\n",
    "                    \n",
    "        elif(case == 7):\n",
    "            for number,average in zip(self.data_prev[\"name\"],self.data_prev[\"勝率\"]):\n",
    "                try: \n",
    "                    if(number == value):\n",
    "                                result = average\n",
    "                                break\n",
    "                except:\n",
    "                    continue\n",
    "        return result\n",
    "\n",
    "    \n",
    "    def fixJockey(self):\n",
    "        for i in range(0,len(self.data_jockey),1):\n",
    "            if(self.data_jockey[\"cnt\"][i] == 1 and self.data_jockey[\"勝率\"][i] == 100):\n",
    "                self.data_jockey.loc[i,\"勝率\"] = 49.625\n",
    "                \n",
    "            if(self.data_jockey[\"cnt\"][i] == 2 and self.data_jockey[\"勝率\"][i] == 100):\n",
    "                self.data_jockey.loc[i,\"勝率\"] = 66.25\n",
    "                \n",
    "            if(self.data_jockey[\"cnt\"][i] == 1 and self.data_jockey[\"勝率\"][i] == 50):\n",
    "                self.data_jockey.loc[i,\"勝率\"] = 33\n",
    "                \n",
    "            if(self.data_jockey[\"cnt\"][i] == 3 and self.data_jockey[\"勝率\"][i] == 100):\n",
    "                self.data_jockey.loc[i,\"勝率\"] = 83\n",
    "                \n",
    "            if(self.data_jockey[\"cnt\"][i] == 2 and self.data_jockey[\"勝率\"][i] == 66.6666666666667):\n",
    "                self.data_jockey.loc[i,\"勝率\"] = 49.5\n",
    "            \n",
    "            if(self.data_jockey[\"cnt\"][i] == 1 and self.data_jockey[\"勝率\"][i] == 33.3333333333333):\n",
    "                self.data_jockey.loc[i,\"勝率\"] = 16.5\n",
    "                \n",
    "            if(self.data_jockey[\"Unnamed: 0\"][i] == \"Ｍ．デム\"):\n",
    "                self.data_jockey.loc[i,\"Unnamed: 0\"] = \"Ｍデムーロ\"\n",
    "                self.data_jockey.loc[i,\"name\"] = \"Ｍデムーロ\"\n",
    "                \n",
    "\n",
    "\n",
    "\n",
    "class Horse:\n",
    "    def __init__(self,race,decadeTend):\n",
    "        self.race = race\n",
    "        self.decadeTend = decadeTend\n",
    "\n",
    "        self.data_horse = pd.DataFrame({\n",
    "                                'name':[],\n",
    "                                '前走':[],\n",
    "                                '適正':[],\n",
    "                                '能力':[],\n",
    "                                '上り':[],\n",
    "                                'タイム':[],\n",
    "                                })\n",
    "\n",
    "        \n",
    "        \n",
    "    def pre_race(self,case,age,data_pre_race):\n",
    "        \n",
    "        point = 1\n",
    "        point_cnt = 1\n",
    "    #     前走を評価\n",
    "        if(case == 1):\n",
    "\n",
    "\n",
    "            try: \n",
    "                for cnt_age in range(0,len(data_pre_race),1):\n",
    "\n",
    "                    if (data_pre_race[\"日付\"][cnt_age].startswith(age,0,len(data_pre_race[\"日付\"][cnt_age])) ):\n",
    "                        break\n",
    "\n",
    "               \n",
    "\n",
    "\n",
    "                if( data_pre_race[\"着順\"][cnt_age + 1]!=\"除\" and data_pre_race[\"着順\"][cnt_age + 1]!=\"中\" and data_pre_race[\"着順\"][cnt_age + 1]!=\"取\" ):\n",
    "                    if(data_pre_race[\"レース名\"][cnt_age + 1].endswith('(G', 0, len(data_pre_race[\"レース名\"][cnt_age + 1])-2)): \n",
    "                        point = point + 14\n",
    "                        if(int(data_pre_race[\"着順\"][cnt_age + 1]) <= 8 ):\n",
    "                            point = point + 15\n",
    "                            if(int(data_pre_race[\"着順\"][cnt_age + 1]) <= 3):\n",
    "                                point = point + 10\n",
    "                                if(int(data_pre_race[\"着順\"][cnt_age + 1]) <= 1):\n",
    "                                    point = point + 10\n",
    "\n",
    "\n",
    "                    else:\n",
    "\n",
    "                        if(int(data_pre_race[\"着順\"][cnt_age + 1]) <= 3 ):\n",
    "                            point = point + 10\n",
    "                            if(int(data_pre_race[\"着順\"][cnt_age + 1]) <= 2):\n",
    "                                point = point + 10\n",
    "                                if(int(data_pre_race[\"着順\"][cnt_age + 1]) <= 1):\n",
    "                                    point = point + 10\n",
    "\n",
    "            except:\n",
    "                return 0\n",
    "\n",
    "\n",
    "\n",
    "\n",
    "    #     距離適正を評価       \n",
    "        if(case == 2):\n",
    "            try:\n",
    "\n",
    "                \n",
    "\n",
    "\n",
    "                for cnt_age in range(0,len(data_pre_race),1):\n",
    "\n",
    "                    if (data_pre_race[\"日付\"][cnt_age].startswith(age,0,len(data_pre_race[\"日付\"][cnt_age])) ):\n",
    "            #             print(cnt_age,\"番目\")\n",
    "                        break\n",
    "\n",
    "                        \n",
    "\n",
    "\n",
    "                for tmp in range(1,len(data_pre_race[cnt_age:]),1):\n",
    "\n",
    "\n",
    "\n",
    "                    # ５試合までしか調べない  \n",
    "                    if(point_cnt >5):\n",
    "                        continue\n",
    "\n",
    "                    if(data_pre_race[\"着順\"][cnt_age + tmp]!=\"除\" and data_pre_race[\"着順\"][cnt_age + tmp]!=\"中\" and data_pre_race[\"着順\"][cnt_age + tmp]!=\"取\"):\n",
    "                        if(data_pre_race[\"レース名\"][cnt_age + tmp].endswith('(G', 0, len(data_pre_race[\"レース名\"][cnt_age + tmp])-2) and data_pre_race[\"距離\"][cnt_age + tmp] == self.race.get_ground(0)):\n",
    "                            point_cnt = point_cnt + 1\n",
    "                            point = point + 19 \n",
    "                            if(int(data_pre_race[\"着順\"][cnt_age + tmp]) <= 8 ):\n",
    "                                point = point + 10\n",
    "                                if(int(data_pre_race[\"着順\"][cnt_age + tmp]) <= 3):\n",
    "                                    point = point + 15\n",
    "                                    \n",
    "                                    if(int(data_pre_race[\"着順\"][cnt_age + tmp]) <= 1):\n",
    "                                        point = point + 25\n",
    "                                        \n",
    "                        \n",
    "\n",
    "\n",
    "                        elif(data_pre_race[\"距離\"][cnt_age + tmp] == self.race.get_ground(0)):\n",
    "                            point_cnt = point_cnt + 1 \n",
    "                            if(int(data_pre_race[\"着順\"][cnt_age + tmp]) <= 3 ):\n",
    "                                point = point + 10\n",
    "                                if(int(data_pre_race[\"着順\"][cnt_age + tmp]) <= 2):\n",
    "                                    point = point + 15\n",
    "    \n",
    "                                    if(int(data_pre_race[\"着順\"][cnt_age + tmp]) <= 1):\n",
    "                                        point = point + 25\n",
    "                                        \n",
    "\n",
    "\n",
    "\n",
    "                        \n",
    "                        if(data_pre_race[\"レース名\"][cnt_age + tmp].endswith('(G', 0, len(data_pre_race[\"レース名\"][cnt_age + tmp])-2) and ( data_pre_race[\"距離\"][cnt_age + tmp] == self.race.get_ground(-100) or data_pre_race[\"距離\"][cnt_age + tmp] == self.race.get_ground(-200) or data_pre_race[\"距離\"][cnt_age + tmp] == self.race.get_ground(-300) or data_pre_race[\"距離\"][cnt_age + tmp] == self.race.get_ground(-400) )):\n",
    "                            point_cnt = point_cnt + 1 \n",
    "                            point = point + 5\n",
    "                            if(int(data_pre_race[\"着順\"][cnt_age + tmp]) <= 8 ):\n",
    "                                point = point + 5\n",
    "                                if(int(data_pre_race[\"着順\"][cnt_age + tmp]) <= 3):\n",
    "                                    point = point + 15\n",
    "                                    if( int(re.findall(r'\\d+',data_pre_race[\"通過\"][cnt_age + tmp])[-1]) - int(data_pre_race[\"着順\"][cnt_age + tmp]) == 0):\n",
    "                                        point = point + 5\n",
    "                                    if(int(data_pre_race[\"着順\"][cnt_age + tmp]) <= 1):\n",
    "                                        point = point + 25\n",
    "                                        if( int(re.findall(r'\\d+',data_pre_race[\"通過\"][cnt_age + tmp])[-1]) - int(data_pre_race[\"着順\"][cnt_age + tmp]) == 0):\n",
    "                                            point = point + 15\n",
    "                                            \n",
    "                                    if( int(re.findall(r'\\d+',data_pre_race[\"通過\"][cnt_age + tmp])[-1]) - int(data_pre_race[\"着順\"][cnt_age + tmp]) >= 0):\n",
    "                                        point = point + 1\n",
    "                                        if( int(re.findall(r'\\d+',data_pre_race[\"通過\"][cnt_age + tmp])[-1]) - int(data_pre_race[\"着順\"][cnt_age + tmp]) >= 1):\n",
    "                                            point = point + 2\n",
    "                                            if( int(re.findall(r'\\d+',data_pre_race[\"通過\"][cnt_age + tmp])[-1]) - int(data_pre_race[\"着順\"][cnt_age + tmp]) >= 2):\n",
    "                                                point = point + 3\n",
    "                                                if( int(re.findall(r'\\d+',data_pre_race[\"通過\"][cnt_age + tmp])[-1]) - int(data_pre_race[\"着順\"][cnt_age + tmp]) >= 3):\n",
    "                                                    point = point + 4\n",
    "                                                    if( int(re.findall(r'\\d+',data_pre_race[\"通過\"][cnt_age + tmp])[-1]) - int(data_pre_race[\"着順\"][cnt_age + tmp]) >= 4):\n",
    "                                                        point = point + 4\n",
    "                                                        if( int(re.findall(r'\\d+',data_pre_race[\"通過\"][cnt_age + tmp])[-1]) - int(data_pre_race[\"着順\"][cnt_age + tmp]) >= 5):\n",
    "                                                            point = point + 6\n",
    "\n",
    "\n",
    "                        elif(data_pre_race[\"距離\"][cnt_age + tmp] == self.race.get_ground(-100) or data_pre_race[\"距離\"][cnt_age + tmp] == self.race.get_ground(-200) or data_pre_race[\"距離\"][cnt_age + tmp] == self.race.get_ground(-300) or data_pre_race[\"距離\"][cnt_age + tmp] == self.race.get_ground(-400)):\n",
    "                            point_cnt = point_cnt + 1 \n",
    "                            if(int(data_pre_race[\"着順\"][cnt_age + tmp]) <= 3 ):\n",
    "                                point = point + 5\n",
    "                                if(int(data_pre_race[\"着順\"][cnt_age + tmp]) <= 1):\n",
    "                                    point = point + 10\n",
    "                                    if( int(re.findall(r'\\d+',data_pre_race[\"通過\"][cnt_age + tmp])[-1]) - int(data_pre_race[\"着順\"][cnt_age + tmp]) == 0):\n",
    "                                        point = point + 5\n",
    "                                    if(int(data_pre_race[\"着順\"][cnt_age + tmp]) <= 1):\n",
    "                                        point = point + 15\n",
    "                                        if( int(re.findall(r'\\d+',data_pre_race[\"通過\"][cnt_age + tmp])[-1]) - int(data_pre_race[\"着順\"][cnt_age + tmp]) == 0):\n",
    "                                            point = point + 15\n",
    "                                if( int(re.findall(r'\\d+',data_pre_race[\"通過\"][cnt_age + tmp])[-1]) - int(data_pre_race[\"着順\"][cnt_age + tmp]) >= 0):\n",
    "                                    point = point + 1\n",
    "                                    if( int(re.findall(r'\\d+',data_pre_race[\"通過\"][cnt_age + tmp])[-1]) - int(data_pre_race[\"着順\"][cnt_age + tmp]) >= 1):\n",
    "                                        point = point + 1\n",
    "                                        if( int(re.findall(r'\\d+',data_pre_race[\"通過\"][cnt_age + tmp])[-1]) - int(data_pre_race[\"着順\"][cnt_age + tmp]) >= 2):\n",
    "                                            point = point + 2\n",
    "                                            if( int(re.findall(r'\\d+',data_pre_race[\"通過\"][cnt_age + tmp])[-1]) - int(data_pre_race[\"着順\"][cnt_age + tmp]) >= 3):\n",
    "                                                point = point + 4\n",
    "                                                if( int(re.findall(r'\\d+',data_pre_race[\"通過\"][cnt_age + tmp])[-1]) - int(data_pre_race[\"着順\"][cnt_age + tmp]) >= 4):\n",
    "                                                    point = point + 4\n",
    "                                                    if( int(re.findall(r'\\d+',data_pre_race[\"通過\"][cnt_age + tmp])[-1]) - int(data_pre_race[\"着順\"][cnt_age + tmp]) >= 5):\n",
    "                                                        point = point + 6               \n",
    "\n",
    "\n",
    "\n",
    "\n",
    "                        \n",
    "                        if(data_pre_race[\"レース名\"][cnt_age + tmp].endswith('(G', 0, len(data_pre_race[\"レース名\"][cnt_age + tmp])-2) and ( data_pre_race[\"距離\"][cnt_age + tmp] == self.race.get_ground(-500) or data_pre_race[\"距離\"][cnt_age + tmp] == self.race.get_ground(-600) or data_pre_race[\"距離\"][cnt_age + tmp] == self.race.get_ground(-700) or data_pre_race[\"距離\"][cnt_age + tmp] == self.race.get_ground(-800) )):\n",
    "                            point_cnt = point_cnt + 1 \n",
    "                            point = point + 5\n",
    "                            if(int(data_pre_race[\"着順\"][cnt_age + tmp]) <= 8 ):\n",
    "                                point = point + 5\n",
    "                                if(int(data_pre_race[\"着順\"][cnt_age + tmp]) <= 3):\n",
    "                                    point = point + 10\n",
    "                                    if( int(re.findall(r'\\d+',data_pre_race[\"通過\"][cnt_age + tmp])[-1]) - int(data_pre_race[\"着順\"][cnt_age + tmp]) == 0):\n",
    "                                        point = point + 10\n",
    "                                    if(int(data_pre_race[\"着順\"][cnt_age + tmp]) <= 1):\n",
    "                                        point = point + 20\n",
    "                                        if( int(re.findall(r'\\d+',data_pre_race[\"通過\"][cnt_age + tmp])[-1]) - int(data_pre_race[\"着順\"][cnt_age + tmp]) == 0):\n",
    "                                            point = point + 25\n",
    "                                            \n",
    "                                    if( int(re.findall(r'\\d+',data_pre_race[\"通過\"][cnt_age + tmp])[-1]) - int(data_pre_race[\"着順\"][cnt_age + tmp]) >= 0):\n",
    "                                        point = point + 4\n",
    "                                        if( int(re.findall(r'\\d+',data_pre_race[\"通過\"][cnt_age + tmp])[-1]) - int(data_pre_race[\"着順\"][cnt_age + tmp]) >= 1):\n",
    "                                            point = point + 4\n",
    "                                            if( int(re.findall(r'\\d+',data_pre_race[\"通過\"][cnt_age + tmp])[-1]) - int(data_pre_race[\"着順\"][cnt_age + tmp]) >= 2):\n",
    "                                                point = point + 4\n",
    "                                                if( int(re.findall(r'\\d+',data_pre_race[\"通過\"][cnt_age + tmp])[-1]) - int(data_pre_race[\"着順\"][cnt_age + tmp]) >= 3):\n",
    "                                                    point = point + 8\n",
    "                                                    if( int(re.findall(r'\\d+',data_pre_race[\"通過\"][cnt_age + tmp])[-1]) - int(data_pre_race[\"着順\"][cnt_age + tmp]) >= 4):\n",
    "                                                        point = point + 8\n",
    "                                                        if( int(re.findall(r'\\d+',data_pre_race[\"通過\"][cnt_age + tmp])[-1]) - int(data_pre_race[\"着順\"][cnt_age + tmp]) >= 5):\n",
    "                                                            point = point + 8\n",
    "\n",
    "\n",
    "                        elif(data_pre_race[\"距離\"][cnt_age + tmp] == self.race.get_ground(-500) or data_pre_race[\"距離\"][cnt_age + tmp] == self.race.get_ground(-600) or data_pre_race[\"距離\"][cnt_age + tmp] == self.race.get_ground(-700) or data_pre_race[\"距離\"][cnt_age + tmp] == self.race.get_ground(-800)):\n",
    "                            point_cnt = point_cnt + 1 \n",
    "                            if(int(data_pre_race[\"着順\"][cnt_age + tmp]) <= 3 ):\n",
    "                                point = point + 5\n",
    "                                if(int(data_pre_race[\"着順\"][cnt_age + tmp]) <= 1):\n",
    "                                    point = point + 5\n",
    "                                    if( int(re.findall(r'\\d+',data_pre_race[\"通過\"][cnt_age + tmp])[-1]) - int(data_pre_race[\"着順\"][cnt_age + tmp]) == 0):\n",
    "                                        point = point + 10\n",
    "                                    if(int(data_pre_race[\"着順\"][cnt_age + tmp]) <= 1):\n",
    "                                        point = point + 10\n",
    "                                        if( int(re.findall(r'\\d+',data_pre_race[\"通過\"][cnt_age + tmp])[-1]) - int(data_pre_race[\"着順\"][cnt_age + tmp]) == 0):\n",
    "                                            point = point + 20\n",
    "                                if( int(re.findall(r'\\d+',data_pre_race[\"通過\"][cnt_age + tmp])[-1]) - int(data_pre_race[\"着順\"][cnt_age + tmp]) >= 0):\n",
    "                                    point = point + 4\n",
    "                                    if( int(re.findall(r'\\d+',data_pre_race[\"通過\"][cnt_age + tmp])[-1]) - int(data_pre_race[\"着順\"][cnt_age + tmp]) >= 1):\n",
    "                                        point = point + 4\n",
    "                                        if( int(re.findall(r'\\d+',data_pre_race[\"通過\"][cnt_age + tmp])[-1]) - int(data_pre_race[\"着順\"][cnt_age + tmp]) >= 2):\n",
    "                                            point = point + 4\n",
    "                                            if( int(re.findall(r'\\d+',data_pre_race[\"通過\"][cnt_age + tmp])[-1]) - int(data_pre_race[\"着順\"][cnt_age + tmp]) >= 3):\n",
    "                                                point = point + 6\n",
    "                    \n",
    "                                                if( int(re.findall(r'\\d+',data_pre_race[\"通過\"][cnt_age + tmp])[-1]) - int(data_pre_race[\"着順\"][cnt_age + tmp]) >= 4):\n",
    "                                                    point = point + 6\n",
    "                                    \n",
    "                                                    if( int(re.findall(r'\\d+',data_pre_race[\"通過\"][cnt_age + tmp])[-1]) - int(data_pre_race[\"着順\"][cnt_age + tmp]) >= 5):\n",
    "                                                        point = point + 6               \n",
    "\n",
    "\n",
    "\n",
    "                                \n",
    "                        if(data_pre_race[\"レース名\"][cnt_age + tmp].endswith('(G', 0, len(data_pre_race[\"レース名\"][cnt_age + tmp])-2) and ( data_pre_race[\"距離\"][cnt_age + tmp] == self.race.get_ground(100) or data_pre_race[\"距離\"][cnt_age + tmp] == self.race.get_ground(200) or data_pre_race[\"距離\"][cnt_age + tmp] == self.race.get_ground(300) or data_pre_race[\"距離\"][cnt_age + tmp] == self.race.get_ground(400) )):\n",
    "                            point_cnt = point_cnt + 1 \n",
    "                            \n",
    "                            if(int(data_pre_race[\"着順\"][cnt_age + tmp]) <= 5 ):\n",
    "                                point = point + 10\n",
    "                                if(int(data_pre_race[\"着順\"][cnt_age + tmp]) <= 3):\n",
    "                                    point = point + 20\n",
    "                                    if( int(re.findall(r'\\d+',data_pre_race[\"通過\"][cnt_age + tmp])[-1]) - int(data_pre_race[\"着順\"][cnt_age + tmp]) == 0):\n",
    "                                        point = point + 5\n",
    "                                    if(int(data_pre_race[\"着順\"][cnt_age + tmp]) <= 1):\n",
    "                                        point = point + 30\n",
    "                                        if( int(re.findall(r'\\d+',data_pre_race[\"通過\"][cnt_age + tmp])[-1]) - int(data_pre_race[\"着順\"][cnt_age + tmp]) == 0):\n",
    "                                            point = point + 5 \n",
    "                                            \n",
    "                                    if( int(re.findall(r'\\d+',data_pre_race[\"通過\"][cnt_age + tmp])[-1]) - int(data_pre_race[\"着順\"][cnt_age + tmp]) >= 0):\n",
    "                                        point = point + 1\n",
    "                                        if( int(re.findall(r'\\d+',data_pre_race[\"通過\"][cnt_age + tmp])[-1]) - int(data_pre_race[\"着順\"][cnt_age + tmp]) >= 1):\n",
    "                                            point = point + 1\n",
    "                                            if( int(re.findall(r'\\d+',data_pre_race[\"通過\"][cnt_age + tmp])[-1]) - int(data_pre_race[\"着順\"][cnt_age + tmp]) >= 2):\n",
    "                                                point = point + 2\n",
    "                                                if( int(re.findall(r'\\d+',data_pre_race[\"通過\"][cnt_age + tmp])[-1]) - int(data_pre_race[\"着順\"][cnt_age + tmp]) >= 3):\n",
    "                                                    point = point + 2\n",
    "                                                    if( int(re.findall(r'\\d+',data_pre_race[\"通過\"][cnt_age + tmp])[-1]) - int(data_pre_race[\"着順\"][cnt_age + tmp]) >= 4):\n",
    "                                                        point = point + 2\n",
    "                                                        if( int(re.findall(r'\\d+',data_pre_race[\"通過\"][cnt_age + tmp])[-1]) - int(data_pre_race[\"着順\"][cnt_age + tmp]) >= 5):\n",
    "                                                            point = point + 2\n",
    "\n",
    "\n",
    "                        elif(data_pre_race[\"距離\"][cnt_age + tmp] == self.race.get_ground(100) or data_pre_race[\"距離\"][cnt_age + tmp] == self.race.get_ground(200) or data_pre_race[\"距離\"][cnt_age + tmp] == self.race.get_ground(300) or data_pre_race[\"距離\"][cnt_age + tmp] == self.race.get_ground(400)):\n",
    "                            point_cnt = point_cnt + 1 \n",
    "                            if(int(data_pre_race[\"着順\"][cnt_age + tmp]) <= 3 ):\n",
    "                                point = point + 10\n",
    "                                if(int(data_pre_race[\"着順\"][cnt_age + tmp]) <= 1):\n",
    "                                    point = point + 5\n",
    "                                    if( int(re.findall(r'\\d+',data_pre_race[\"通過\"][cnt_age + tmp])[-1]) - int(data_pre_race[\"着順\"][cnt_age + tmp]) == 0):\n",
    "                                        point = point + 5\n",
    "                                    if(int(data_pre_race[\"着順\"][cnt_age + tmp]) <= 1):\n",
    "                                        point = point + 20\n",
    "                                        if( int(re.findall(r'\\d+',data_pre_race[\"通過\"][cnt_age + tmp])[-1]) - int(data_pre_race[\"着順\"][cnt_age + tmp]) == 0):\n",
    "                                            point = point + 5\n",
    "                                if( int(re.findall(r'\\d+',data_pre_race[\"通過\"][cnt_age + tmp])[-1]) - int(data_pre_race[\"着順\"][cnt_age + tmp]) >= 0):\n",
    "                                    point = point + 1\n",
    "                                    if( int(re.findall(r'\\d+',data_pre_race[\"通過\"][cnt_age + tmp])[-1]) - int(data_pre_race[\"着順\"][cnt_age + tmp]) >= 1):\n",
    "                                        point = point + 1\n",
    "                                        if( int(re.findall(r'\\d+',data_pre_race[\"通過\"][cnt_age + tmp])[-1]) - int(data_pre_race[\"着順\"][cnt_age + tmp]) >= 2):\n",
    "                                            point = point + 1\n",
    "                                            if( int(re.findall(r'\\d+',data_pre_race[\"通過\"][cnt_age + tmp])[-1]) - int(data_pre_race[\"着順\"][cnt_age + tmp]) >= 3):\n",
    "                                                point = point + 2\n",
    "                                                if( int(re.findall(r'\\d+',data_pre_race[\"通過\"][cnt_age + tmp])[-1]) - int(data_pre_race[\"着順\"][cnt_age + tmp]) >= 4):\n",
    "                                                    point = point + 2\n",
    "                                                    if( int(re.findall(r'\\d+',data_pre_race[\"通過\"][cnt_age + tmp])[-1]) - int(data_pre_race[\"着順\"][cnt_age + tmp]) >= 5):\n",
    "                                                        point = point + 3              \n",
    "\n",
    "\n",
    "\n",
    "                                \n",
    "                        if(data_pre_race[\"レース名\"][cnt_age + tmp].endswith('(G', 0, len(data_pre_race[\"レース名\"][cnt_age + tmp])-2) and ( data_pre_race[\"距離\"][cnt_age + tmp] == self.race.get_ground(500) or data_pre_race[\"距離\"][cnt_age + tmp] == self.race.get_ground(600) or data_pre_race[\"距離\"][cnt_age + tmp] == self.race.get_ground(700) or data_pre_race[\"距離\"][cnt_age + tmp] == self.race.get_ground(800) )):\n",
    "                            point_cnt = point_cnt + 1 \n",
    "                            \n",
    "                            if(int(data_pre_race[\"着順\"][cnt_age + tmp]) <= 5 ):\n",
    "                                point = point + 10\n",
    "                                if(int(data_pre_race[\"着順\"][cnt_age + tmp]) <= 3):\n",
    "                                    point = point + 20\n",
    "                                    if( int(re.findall(r'\\d+',data_pre_race[\"通過\"][cnt_age + tmp])[-1]) - int(data_pre_race[\"着順\"][cnt_age + tmp]) == 0):\n",
    "                                        point = point + 5\n",
    "                                    if(int(data_pre_race[\"着順\"][cnt_age + tmp]) <= 1):\n",
    "                                        point = point + 30\n",
    "                                        if( int(re.findall(r'\\d+',data_pre_race[\"通過\"][cnt_age + tmp])[-1]) - int(data_pre_race[\"着順\"][cnt_age + tmp]) == 0):\n",
    "                                            point = point + 5 \n",
    "                                            \n",
    "                                    if( int(re.findall(r'\\d+',data_pre_race[\"通過\"][cnt_age + tmp])[-1]) - int(data_pre_race[\"着順\"][cnt_age + tmp]) >= 0):\n",
    "                                        point = point + 1\n",
    "                                        if( int(re.findall(r'\\d+',data_pre_race[\"通過\"][cnt_age + tmp])[-1]) - int(data_pre_race[\"着順\"][cnt_age + tmp]) >= 1):\n",
    "                                            point = point + 1\n",
    "                                            if( int(re.findall(r'\\d+',data_pre_race[\"通過\"][cnt_age + tmp])[-1]) - int(data_pre_race[\"着順\"][cnt_age + tmp]) >= 2):\n",
    "                                                point = point + 2\n",
    "                                                if( int(re.findall(r'\\d+',data_pre_race[\"通過\"][cnt_age + tmp])[-1]) - int(data_pre_race[\"着順\"][cnt_age + tmp]) >= 3):\n",
    "                                                    point = point + 2\n",
    "                                                    if( int(re.findall(r'\\d+',data_pre_race[\"通過\"][cnt_age + tmp])[-1]) - int(data_pre_race[\"着順\"][cnt_age + tmp]) >= 4):\n",
    "                                                        point = point + 2\n",
    "                                                        if( int(re.findall(r'\\d+',data_pre_race[\"通過\"][cnt_age + tmp])[-1]) - int(data_pre_race[\"着順\"][cnt_age + tmp]) >= 5):\n",
    "                                                            point = point + 2\n",
    "\n",
    "\n",
    "                        elif(data_pre_race[\"距離\"][cnt_age + tmp] == self.race.get_ground(500) or data_pre_race[\"距離\"][cnt_age + tmp] == self.race.get_ground(600) or data_pre_race[\"距離\"][cnt_age + tmp] == self.race.get_ground(700) or data_pre_race[\"距離\"][cnt_age + tmp] == self.race.get_ground(800)):\n",
    "                            point_cnt = point_cnt + 1 \n",
    "                            if(int(data_pre_race[\"着順\"][cnt_age + tmp]) <= 3 ):\n",
    "                                point = point + 10\n",
    "                                if(int(data_pre_race[\"着順\"][cnt_age + tmp]) <= 1):\n",
    "                                    point = point + 5\n",
    "                                    if( int(re.findall(r'\\d+',data_pre_race[\"通過\"][cnt_age + tmp])[-1]) - int(data_pre_race[\"着順\"][cnt_age + tmp]) == 0):\n",
    "                                        point = point + 5\n",
    "                                    if(int(data_pre_race[\"着順\"][cnt_age + tmp]) <= 1):\n",
    "                                        point = point + 20\n",
    "                                        if( int(re.findall(r'\\d+',data_pre_race[\"通過\"][cnt_age + tmp])[-1]) - int(data_pre_race[\"着順\"][cnt_age + tmp]) == 0):\n",
    "                                            point = point + 5\n",
    "                                if( int(re.findall(r'\\d+',data_pre_race[\"通過\"][cnt_age + tmp])[-1]) - int(data_pre_race[\"着順\"][cnt_age + tmp]) >= 0):\n",
    "                                    point = point + 1\n",
    "                                    if( int(re.findall(r'\\d+',data_pre_race[\"通過\"][cnt_age + tmp])[-1]) - int(data_pre_race[\"着順\"][cnt_age + tmp]) >= 1):\n",
    "                                        point = point + 1\n",
    "                                        if( int(re.findall(r'\\d+',data_pre_race[\"通過\"][cnt_age + tmp])[-1]) - int(data_pre_race[\"着順\"][cnt_age + tmp]) >= 2):\n",
    "                                            point = point + 1\n",
    "                                            if( int(re.findall(r'\\d+',data_pre_race[\"通過\"][cnt_age + tmp])[-1]) - int(data_pre_race[\"着順\"][cnt_age + tmp]) >= 3):\n",
    "                                                point = point + 2\n",
    "                                                if( int(re.findall(r'\\d+',data_pre_race[\"通過\"][cnt_age + tmp])[-1]) - int(data_pre_race[\"着順\"][cnt_age + tmp]) >= 4):\n",
    "                                                    point = point + 2\n",
    "                                                    if( int(re.findall(r'\\d+',data_pre_race[\"通過\"][cnt_age + tmp])[-1]) - int(data_pre_race[\"着順\"][cnt_age + tmp]) >= 5):\n",
    "                                                        point = point + 3              \n",
    "\n",
    "                                       \n",
    "                                                        \n",
    "\n",
    "\n",
    "\n",
    "            except:\n",
    "                return 0\n",
    "\n",
    "    #sum調査        \n",
    "        if(case == 3):\n",
    "            try: \n",
    "                \n",
    "\n",
    "                for cnt_age in range(0,len(data_pre_race),1):\n",
    "                    if (data_pre_race[\"日付\"][cnt_age].startswith(age,0,len(data_pre_race[\"日付\"][cnt_age])) ):\n",
    "                        break\n",
    "\n",
    "\n",
    "                for tmp in range(1,len(data_pre_race[cnt_age:])-1,1):\n",
    "\n",
    "                    if(point_cnt > 5):\n",
    "                        continue\n",
    "\n",
    "\n",
    "                    if(data_pre_race[\"着順\"][cnt_age + tmp]!=\"除\" and data_pre_race[\"着順\"][cnt_age + tmp]!=\"中\" and data_pre_race[\"着順\"][cnt_age + tmp]!=\"取\"):\n",
    "                        if(data_pre_race[\"レース名\"][cnt_age + tmp].endswith('(G', 0, len(data_pre_race[\"レース名\"][cnt_age + tmp])-2)):\n",
    "                            point_cnt = point_cnt + 1 \n",
    "                            if(int(data_pre_race[\"着順\"][cnt_age + tmp]) <= 5 ):\n",
    "                                point = point + 19\n",
    "                                if(int(data_pre_race[\"着順\"][cnt_age + tmp]) <= 3):\n",
    "                                    point = point + 20\n",
    "                                    if(int(data_pre_race[\"着順\"][cnt_age + tmp]) <= 1):\n",
    "                                        point = point + 10\n",
    "\n",
    "                        else:\n",
    "                            point_cnt = point_cnt + 1 \n",
    "                            if(int(data_pre_race[\"着順\"][cnt_age + tmp]) <= 3 ):\n",
    "                                point = point + 9\n",
    "                                if(int(data_pre_race[\"着順\"][cnt_age + tmp]) <= 2):\n",
    "                                    point = point + 20\n",
    "                                    if(int(data_pre_race[\"着順\"][cnt_age + tmp]) <= 1):\n",
    "                                        point = point + 10\n",
    "\n",
    "            except:\n",
    "                return 0\n",
    "            \n",
    "            \n",
    "        #上がり評価\n",
    "        if(case == 4):\n",
    "            \n",
    "            maxTime = 0\n",
    "            point = 0\n",
    "            try: \n",
    "                for cnt_age in range(0,len(data_pre_race),1):\n",
    "\n",
    "                    if (data_pre_race[\"日付\"][cnt_age].startswith(age,0,len(data_pre_race[\"日付\"][cnt_age])) ):\n",
    "                        break\n",
    "\n",
    "               \n",
    "\n",
    "\n",
    "                for tmp in range(1,len(data_pre_race[cnt_age:])-1,1):\n",
    "                    if(data_pre_race[\"着順\"][cnt_age + tmp]!=\"除\" and data_pre_race[\"着順\"][cnt_age + tmp]!=\"中\" and data_pre_race[\"着順\"][cnt_age + tmp]!=\"取\"):\n",
    "                        if(data_pre_race[\"距離\"][cnt_age + tmp] == self.race.get_ground(0)):\n",
    "                            value = 37 - float(data_pre_race[\"上り\"][cnt_age + tmp])\n",
    "                            \n",
    "                            if(value > maxTime):\n",
    "                                point = value\n",
    "                                \n",
    "                        else:\n",
    "                            continue\n",
    "                                         \n",
    "\n",
    "            except:\n",
    "                return 0\n",
    "            \n",
    "        #タイム評価\n",
    "        if(case == 5):\n",
    "            \n",
    "            maxTime = 0\n",
    "            point = 0\n",
    "            \n",
    "            try: \n",
    "                for cnt_age in range(0,len(data_pre_race),1):\n",
    "\n",
    "                    if (data_pre_race[\"日付\"][cnt_age].startswith(age,0,len(data_pre_race[\"日付\"][cnt_age])) ):\n",
    "                        break\n",
    "\n",
    "               \n",
    "\n",
    "\n",
    "                for tmp in range(1,len(data_pre_race[cnt_age:])-1,1):\n",
    "                    if(data_pre_race[\"着順\"][cnt_age + tmp]!=\"除\" and data_pre_race[\"着順\"][cnt_age + tmp]!=\"中\" and data_pre_race[\"着順\"][cnt_age + tmp]!=\"取\"):\n",
    "                        if(data_pre_race[\"距離\"][cnt_age + tmp] == self.race.get_ground(0)):\n",
    "                            value = (data_pre_race[\"タイム\"][cnt_age + tmp])\n",
    "                            data = re.findall(\"[0-9]\",value)\n",
    "                            time = int(data[0])*60 + int(data[1])*10 + int(data[2]) + int(data[0])*0.1\n",
    "                            checker = self.decadeTend.getAverageTime() - time\n",
    "                            if(checker > maxTime):\n",
    "                                point = checker\n",
    "               \n",
    "                return point\n",
    "                                         \n",
    "\n",
    "            except:\n",
    "                return 0\n",
    "    \n",
    "            \n",
    "\n",
    "\n",
    "\n",
    "\n",
    "        test_len = len(data_pre_race)\n",
    "        return point / point_cnt \n",
    "\n",
    "\n",
    "\n",
    "\n",
    "    \n",
    "    \n",
    "    \n",
    "    \n",
    "\n",
    "    def vlookup(self,case,value):\n",
    "        result = 0\n",
    "        \n",
    "        if(case == 1):\n",
    "            for number,average in zip(self.data_horse[\"name\"],self.data_horse[\"前走\"]):\n",
    "                try: \n",
    "                    if(number == value):\n",
    "                        result = average\n",
    "                        break\n",
    "                except:\n",
    "                    continue    \n",
    "        \n",
    "\n",
    "        elif(case == 2):\n",
    "            for number,average in zip(self.data_horse[\"name\"],self.data_horse[\"適正\"]):\n",
    "                try: \n",
    "                    if(number == value):\n",
    "                        result = average\n",
    "                        break\n",
    "                except:\n",
    "                    continue\n",
    "\n",
    "        elif(case == 3):\n",
    "            for number,average in zip(self.data_horse[\"name\"],self.data_horse[\"能力\"]):\n",
    "                try: \n",
    "                    if(number == value):\n",
    "                        result = average\n",
    "                        break\n",
    "                except:\n",
    "                    continue\n",
    "                    \n",
    "        elif(case == 4):\n",
    "            for number,average in zip(self.data_horse[\"name\"],self.data_horse[\"上り\"]):\n",
    "                try: \n",
    "                    if(number == value):\n",
    "                        result = average\n",
    "                        break\n",
    "                except:\n",
    "                    continue\n",
    "                    \n",
    "        elif(case == 5):\n",
    "            for number,average in zip(self.data_horse[\"name\"],self.data_horse[\"タイム\"]):\n",
    "                try: \n",
    "                    if(number == value):\n",
    "                        result = average\n",
    "                        break\n",
    "                except:\n",
    "                    continue\n",
    "\n",
    "        \n",
    "        return result\n",
    "\n",
    "\n",
    "\n",
    "\n",
    "class Exp:\n",
    "    def __init__(self):\n",
    "        self.data_exp = pd.DataFrame({\n",
    "                        'a':[],\n",
    "                        'b':[],\n",
    "                        'c':[],\n",
    "                        'd':[],\n",
    "                        'e':[],\n",
    "                        'f':[],\n",
    "                        'g':[],\n",
    "                        'h':[],\n",
    "                        'k':[],\n",
    "                        'start':[],\n",
    "                        'length':[],\n",
    "                        'target':[],\n",
    "                                }) \n",
    "        self.expCnt = 0\n",
    "        \n",
    "    def create_exp(self,exp,race,decadeTend):\n",
    "        \n",
    "            \n",
    "                \n",
    "        try:\n",
    "\n",
    "\n",
    "            df = pd.read_html(exp,header=0)[0]\n",
    "    #馬のリンクを保存\n",
    "            response = requests.get(exp)\n",
    "            soup = BeautifulSoup(response.text, 'html.parser')\n",
    "            table = soup.find('table')\n",
    "            links = []\n",
    "            for tr in table.findAll(\"tr\"):\n",
    "\n",
    "                try:\n",
    "                    link = tr.find_all(href=re.compile(\"^/horse\"))\n",
    "                    if(len(link) == 0):\n",
    "                        continue\n",
    "\n",
    "                    link = \"https://db.netkeiba.com\" + str(link)[10:28]\n",
    "\n",
    "                    links.append(link)\n",
    "\n",
    "                except:\n",
    "                    pass\n",
    "            df['HorseLink'] = links \n",
    "            \n",
    "            \n",
    "     #日時の保存\n",
    "            response = requests.get(exp)\n",
    "            response.encoding = \"EUC-JP\"\n",
    "            soup = BeautifulSoup(response.text, 'html.parser')\n",
    "            div = soup.find('div',class_ = \"race_head_inner\")\n",
    "            li = div.find('li',class_ = \"result_link\")\n",
    "            z =str(li)\n",
    "            z = z[55:59] + \"/\" + z[60:62] + \"/\" + z[63:65]\n",
    "            \n",
    "            z = str(exp)\n",
    "            z = z[29:33] + \"/\" + z[35:37] + \"/\" + z[37:39]\n",
    "            print(z)\n",
    "\n",
    "\n",
    "\n",
    "            \n",
    "    #血統を保存\n",
    "    #前走を保存\n",
    "            blood_1 = []\n",
    "            blood_2 = []\n",
    "            prev_game = []\n",
    "            for x in df['HorseLink']:\n",
    "                blood = pd.read_html(x)[2]\n",
    "                blood_1.append(blood[0][0])\n",
    "                blood_2.append(blood[1][2])\n",
    "                \n",
    "                try:\n",
    "                    game = pd.read_html(x)[3]\n",
    "                    for cnt_age in range(0,len(game),1):\n",
    "\n",
    "                        if (game[\"日付\"][cnt_age].startswith(z,0,len(game[\"日付\"][cnt_age])) ):\n",
    "                            break\n",
    "                    prev_game.append(game[\"レース名\"][cnt_age+1])\n",
    "                except:\n",
    "                    game = pd.read_html(x)[4]\n",
    "                    for cnt_age in range(0,len(game),1):\n",
    "\n",
    "                        if (game[\"日付\"][cnt_age].startswith(z,0,len(game[\"日付\"][cnt_age])) ):\n",
    "                            break\n",
    "                    prev_game.append(game[\"レース名\"][cnt_age+1])\n",
    "                    \n",
    "                \n",
    "                \n",
    "            df['blood_1'] = blood_1\n",
    "            df['blood_2'] = blood_2  \n",
    "            df['前走大会'] = prev_game\n",
    "            \n",
    "   \n",
    "            \n",
    "            \n",
    "    \n",
    "            \n",
    "       \n",
    "            \n",
    "\n",
    "        #horseインスタンス化\n",
    "            horse = Horse(race,decadeTend)\n",
    "            for i in range(0,len(df),1):\n",
    "                data_pre_race = pd.read_html(df[\"HorseLink\"][i])[3]\n",
    "                name = df.loc[i][\"馬名\"]\n",
    "                horse.data_horse.loc[i,:] = [name,horse.pre_race(1,z,data_pre_race),horse.pre_race(2,z,data_pre_race),horse.pre_race(3,z,data_pre_race),horse.pre_race(4,z,data_pre_race),horse.pre_race(5,z,data_pre_race)]\n",
    "                if(horse.data_horse[\"前走\"][i] == 0 and horse.data_horse[\"適正\"][i] == 0 and horse.data_horse[\"能力\"][i] == 0):\n",
    "                    data_pre_race = pd.read_html(df[\"HorseLink\"][i])[4]\n",
    "                    horse.data_horse.loc[i,:] = [name,horse.pre_race(1,z,data_pre_race),horse.pre_race(2,z,data_pre_race),horse.pre_race(3,z,data_pre_race),horse.pre_race(4,z,data_pre_race),horse.pre_race(5,z,data_pre_race)]\n",
    "                    if(horse.data_horse[\"前走\"][i] == 0 and horse.data_horse[\"適正\"][i] == 0 and horse.data_horse[\"能力\"][i] == 0):\n",
    "                        data_pre_race = pd.read_html(df[\"HorseLink\"][i])[5]\n",
    "                        horse.data_horse.loc[i,:] = [name,horse.pre_race(1,z,data_pre_race),horse.pre_race(2,z,data_pre_race),horse.pre_race(3,z,data_pre_race),horse.pre_race(4,z,data_pre_race),horse.pre_race(5,z,data_pre_race)]\n",
    "\n",
    "                        \n",
    "    #         vlookup関数で値を取得\n",
    "            for i in range(0,len(df),1):\n",
    "                try:\n",
    "                    errCheck = 1 + int(df[\"着順\"][i]) \n",
    "                    self.data_exp.loc[i + self.expCnt,\"a\"] =  ( decadeTend.vlookup(1,int(df[\"枠番\"][i])) + decadeTend.vlookup(5,int(df[\"馬番\"][i])) ) / 2\n",
    "                    self.data_exp.loc[i + self.expCnt,\"b\"] =  int(df[\"斤量\"][i])\n",
    "                    self.data_exp.loc[i + self.expCnt,\"c\"] =  horse.vlookup(2,df[\"馬名\"][i])\n",
    "                    self.data_exp.loc[i + self.expCnt,\"d\"] =  (decadeTend.vlookup(4,df[\"騎手\"][i]) + decadeTend.vlookup(4,df[\"騎手\"][i]))/2\n",
    "                    self.data_exp.loc[i + self.expCnt,\"e\"] =  horse.vlookup(4,df[\"馬名\"][i])\n",
    "                    self.data_exp.loc[i + self.expCnt,\"f\"] =  (horse.vlookup(1,df[\"馬名\"][i]) + horse.vlookup(3,df[\"馬名\"][i]))/2\n",
    "                    self.data_exp.loc[i + self.expCnt,\"g\"] =  (decadeTend.vlookup(6,df[\"blood_1\"][i]) + decadeTend.vlookup(6,df[\"blood_2\"][i]))\n",
    "                    self.data_exp.loc[i + self.expCnt,\"h\"] =  (decadeTend.vlookup(7,df[\"前走大会\"][i]))\n",
    "                    self.data_exp.loc[i + self.expCnt,\"k\"] =  horse.vlookup(5,df[\"馬名\"][i])\n",
    "                    self.data_exp.loc[i + self.expCnt,\"target\"] = i + 1\n",
    "                    \n",
    "#                     開始位置と出走数を保存 \n",
    "                    if(i == 0):\n",
    "                        self.data_exp.loc[i + self.expCnt,\"start\"] = self.expCnt\n",
    "                        self.data_exp.loc[i + self.expCnt,\"length\"] = len(df)\n",
    "                        \n",
    "                    elif(i == 1):\n",
    "                        self.data_exp.loc[i + self.expCnt,\"start\"] = i + self.expCnt -1\n",
    "                        self.data_exp.loc[i + self.expCnt,\"length\"] = len(df)\n",
    "                        \n",
    "                    elif(i == 2):\n",
    "                        self.data_exp.loc[i + self.expCnt,\"start\"] = i + self.expCnt -2\n",
    "                        self.data_exp.loc[i + self.expCnt,\"length\"] = len(df)\n",
    "                        \n",
    "                        \n",
    "                    else:\n",
    "                        self.data_exp.loc[i + self.expCnt,\"start\"] = 0\n",
    "                        self.data_exp.loc[i + self.expCnt,\"length\"] = 0\n",
    "                    \n",
    "                    \n",
    "                    \n",
    "\n",
    "                except:\n",
    "                    self.data_exp.loc[i + self.expCnt,\"a\"] = 0 \n",
    "                    self.data_exp.loc[i + self.expCnt,\"b\"] = 0\n",
    "                    self.data_exp.loc[i + self.expCnt,\"c\"] = 0\n",
    "                    self.data_exp.loc[i + self.expCnt,\"d\"] = 0\n",
    "                    self.data_exp.loc[i + self.expCnt,\"e\"] = 0\n",
    "                    self.data_exp.loc[i + self.expCnt,\"f\"] = 0\n",
    "                    self.data_exp.loc[i + self.expCnt,\"g\"] = 0\n",
    "                    self.data_exp.loc[i + self.expCnt,\"h\"] = 0\n",
    "                    self.data_exp.loc[i + self.expCnt,\"k\"] = 0\n",
    "                    self.data_exp.loc[i + self.expCnt,\"start\"] = 0\n",
    "                    self.data_exp.loc[i + self.expCnt,\"length\"] = 0\n",
    "                    self.data_exp.loc[i + self.expCnt,\"target\"] = i + 1\n",
    "                    continue\n",
    "                    \n",
    "            \n",
    "    \n",
    "            self.expCnt = self.expCnt + len(df)\n",
    "        except: \n",
    "            print(\"err\")\n",
    "\n",
    "\n",
    "\n"
   ]
  },
  {
   "cell_type": "code",
   "execution_count": 177,
   "metadata": {},
   "outputs": [
    {
     "name": "stdout",
     "output_type": "stream",
     "text": [
      "競馬場\n"
     ]
    },
    {
     "name": "stdin",
     "output_type": "stream",
     "text": [
      " 佐賀\n"
     ]
    },
    {
     "name": "stdout",
     "output_type": "stream",
     "text": [
      "コード入力 札幌:1 東京:5 中山:6 中京:7 阪神:9\n"
     ]
    },
    {
     "name": "stdin",
     "output_type": "stream",
     "text": [
      " 55\n"
     ]
    },
    {
     "name": "stdout",
     "output_type": "stream",
     "text": [
      "芝 or ダ\n"
     ]
    },
    {
     "name": "stdin",
     "output_type": "stream",
     "text": [
      " ダ\n"
     ]
    },
    {
     "name": "stdout",
     "output_type": "stream",
     "text": [
      "距離\n"
     ]
    },
    {
     "name": "stdin",
     "output_type": "stream",
     "text": [
      " 900\n"
     ]
    },
    {
     "name": "stdout",
     "output_type": "stream",
     "text": [
      "内or外:2 or 4\n"
     ]
    },
    {
     "name": "stdin",
     "output_type": "stream",
     "text": [
      " 2\n"
     ]
    },
    {
     "name": "stdout",
     "output_type": "stream",
     "text": [
      "右左\n"
     ]
    },
    {
     "name": "stdin",
     "output_type": "stream",
     "text": [
      " 右\n"
     ]
    },
    {
     "name": "stdout",
     "output_type": "stream",
     "text": [
      "月\n"
     ]
    },
    {
     "name": "stdin",
     "output_type": "stream",
     "text": [
      " 6\n"
     ]
    },
    {
     "name": "stderr",
     "output_type": "stream",
     "text": [
      "100%|██████████████████████████████████████████████████████████████████████████████████| 10/10 [13:32<00:00, 81.22s/it]\n",
      "100%|██████████████████████████████████████████████████████████████████████████████████| 19/19 [02:36<00:00,  8.26s/it]\n",
      "<ipython-input-175-c3b04e15a86c>:394: RuntimeWarning: invalid value encountered in true_divide\n",
      "  self.data_frame.loc[i,\"年齢勝率\"] = (self.data_frame.loc[i,\"年齢\"] / self.data_frame.loc[i,\"年齢勝率\"])*100\n",
      "<ipython-input-175-c3b04e15a86c>:393: RuntimeWarning: invalid value encountered in true_divide\n",
      "  self.data_frame.loc[i,\"枠勝率\"] = (self.data_frame.loc[i,\"枠\"] / self.data_frame.loc[i,\"枠勝率\"])*100\n",
      "<ipython-input-175-c3b04e15a86c>:395: RuntimeWarning: invalid value encountered in true_divide\n",
      "  self.data_frame.loc[i,\"人気勝率\"] = (self.data_frame.loc[i,\"人気\"] / self.data_frame.loc[i,\"人気勝率\"])*100\n",
      "<ipython-input-175-c3b04e15a86c>:396: RuntimeWarning: invalid value encountered in true_divide\n",
      "  self.data_frame.loc[i,\"馬番勝率\"] = (self.data_frame.loc[i,\"馬番\"] / self.data_frame.loc[i,\"馬番勝率\"])*100\n",
      "  0%|                                                                                           | 0/19 [00:00<?, ?it/s]"
     ]
    },
    {
     "name": "stdout",
     "output_type": "stream",
     "text": [
      "2017/06/04\n"
     ]
    },
    {
     "name": "stderr",
     "output_type": "stream",
     "text": [
      "  5%|████▎                                                                              | 1/19 [00:09<02:53,  9.62s/it]"
     ]
    },
    {
     "name": "stdout",
     "output_type": "stream",
     "text": [
      "2017/06/24\n"
     ]
    },
    {
     "name": "stderr",
     "output_type": "stream",
     "text": [
      " 11%|████████▋                                                                          | 2/19 [00:17<02:32,  9.00s/it]"
     ]
    },
    {
     "name": "stdout",
     "output_type": "stream",
     "text": [
      "2017/07/08\n"
     ]
    },
    {
     "name": "stderr",
     "output_type": "stream",
     "text": [
      " 16%|█████████████                                                                      | 3/19 [00:27<02:28,  9.29s/it]"
     ]
    },
    {
     "name": "stdout",
     "output_type": "stream",
     "text": [
      "2017/07/22\n"
     ]
    },
    {
     "name": "stderr",
     "output_type": "stream",
     "text": [
      " 21%|█████████████████▍                                                                 | 4/19 [00:35<02:17,  9.13s/it]"
     ]
    },
    {
     "name": "stdout",
     "output_type": "stream",
     "text": [
      "2017/07/23\n"
     ]
    },
    {
     "name": "stderr",
     "output_type": "stream",
     "text": [
      " 26%|█████████████████████▊                                                             | 5/19 [00:48<02:20, 10.05s/it]"
     ]
    },
    {
     "name": "stdout",
     "output_type": "stream",
     "text": [
      "2017/08/01\n"
     ]
    },
    {
     "name": "stderr",
     "output_type": "stream",
     "text": [
      " 32%|██████████████████████████▏                                                        | 6/19 [00:59<02:15, 10.43s/it]"
     ]
    },
    {
     "name": "stdout",
     "output_type": "stream",
     "text": [
      "2017/08/16\n"
     ]
    },
    {
     "name": "stderr",
     "output_type": "stream",
     "text": [
      " 37%|██████████████████████████████▌                                                    | 7/19 [01:03<01:44,  8.68s/it]"
     ]
    },
    {
     "name": "stdout",
     "output_type": "stream",
     "text": [
      "err\n",
      "2017/08/20\n"
     ]
    },
    {
     "name": "stderr",
     "output_type": "stream",
     "text": [
      " 42%|██████████████████████████████████▉                                                | 8/19 [01:15<01:45,  9.58s/it]"
     ]
    },
    {
     "name": "stdout",
     "output_type": "stream",
     "text": [
      "2018/06/10\n"
     ]
    },
    {
     "name": "stderr",
     "output_type": "stream",
     "text": [
      " 47%|███████████████████████████████████████▎                                           | 9/19 [01:25<01:35,  9.59s/it]"
     ]
    },
    {
     "name": "stdout",
     "output_type": "stream",
     "text": [
      "2018/08/04\n"
     ]
    },
    {
     "name": "stderr",
     "output_type": "stream",
     "text": [
      " 53%|███████████████████████████████████████████▏                                      | 10/19 [01:36<01:29,  9.97s/it]"
     ]
    },
    {
     "name": "stdout",
     "output_type": "stream",
     "text": [
      "2018/08/12\n"
     ]
    },
    {
     "name": "stderr",
     "output_type": "stream",
     "text": [
      " 58%|███████████████████████████████████████████████▍                                  | 11/19 [01:48<01:26, 10.76s/it]"
     ]
    },
    {
     "name": "stdout",
     "output_type": "stream",
     "text": [
      "2018/08/14\n"
     ]
    },
    {
     "name": "stderr",
     "output_type": "stream",
     "text": [
      " 63%|███████████████████████████████████████████████████▊                              | 12/19 [02:00<01:17, 11.06s/it]"
     ]
    },
    {
     "name": "stdout",
     "output_type": "stream",
     "text": [
      "2018/08/14\n"
     ]
    },
    {
     "name": "stderr",
     "output_type": "stream",
     "text": [
      " 68%|████████████████████████████████████████████████████████                          | 13/19 [02:07<00:58,  9.81s/it]"
     ]
    },
    {
     "name": "stdout",
     "output_type": "stream",
     "text": [
      "2019/07/20\n"
     ]
    },
    {
     "name": "stderr",
     "output_type": "stream",
     "text": [
      " 74%|████████████████████████████████████████████████████████████▍                     | 14/19 [02:16<00:47,  9.60s/it]"
     ]
    },
    {
     "name": "stdout",
     "output_type": "stream",
     "text": [
      "2019/08/04\n"
     ]
    },
    {
     "name": "stderr",
     "output_type": "stream",
     "text": [
      " 79%|████████████████████████████████████████████████████████████████▋                 | 15/19 [02:23<00:34,  8.73s/it]"
     ]
    },
    {
     "name": "stdout",
     "output_type": "stream",
     "text": [
      "err\n",
      "2019/08/11\n"
     ]
    },
    {
     "name": "stderr",
     "output_type": "stream",
     "text": [
      " 84%|█████████████████████████████████████████████████████████████████████             | 16/19 [02:31<00:25,  8.64s/it]"
     ]
    },
    {
     "name": "stdout",
     "output_type": "stream",
     "text": [
      "2019/08/12\n"
     ]
    },
    {
     "name": "stderr",
     "output_type": "stream",
     "text": [
      " 89%|█████████████████████████████████████████████████████████████████████████▎        | 17/19 [02:44<00:19,  9.82s/it]"
     ]
    },
    {
     "name": "stdout",
     "output_type": "stream",
     "text": [
      "2019/08/18\n"
     ]
    },
    {
     "name": "stderr",
     "output_type": "stream",
     "text": [
      " 95%|█████████████████████████████████████████████████████████████████████████████▋    | 18/19 [02:52<00:09,  9.47s/it]"
     ]
    },
    {
     "name": "stdout",
     "output_type": "stream",
     "text": [
      "2019/08/24\n"
     ]
    },
    {
     "name": "stderr",
     "output_type": "stream",
     "text": [
      "100%|██████████████████████████████████████████████████████████████████████████████████| 19/19 [03:01<00:00,  9.53s/it]\n"
     ]
    }
   ],
   "source": [
    "import pandas as pd \n",
    "import requests\n",
    "from bs4 import BeautifulSoup \n",
    "import re\n",
    "from tqdm import tqdm as tqdm\n",
    "# from class_main import Race\n",
    "# from class_main import Tend\n",
    "# # from class_main import Exp\n",
    "# # from class_main import Horse\n",
    "\n",
    "\n",
    "print(\"競馬場\")    \n",
    "log_place = input()\n",
    "print(\"コード入力 札幌:1 東京:5 中山:6 中京:7 阪神:9\")\n",
    "log_cord = int(input())\n",
    "print(\"芝 or ダ\")\n",
    "log_ground = input()\n",
    "print(\"距離\")\n",
    "log_meter = input()\n",
    "print(\"内or外:2 or 4\")\n",
    "src = int(input())  \n",
    "print(\"右左\")\n",
    "road = input()\n",
    "print(\"月\")\n",
    "month = input()\n",
    "# topicからレースurlを取得\n",
    "race = Race(log_place,log_cord ,log_ground,log_meter,src,road,url_topic,month)\n",
    "race.get_url()\n",
    "decadeURL = race.get_link()\n",
    "\n",
    "#十年分を集計\n",
    "decadeTend = Tend()\n",
    "decadeTend.create_tend(decadeURL)\n",
    "\n",
    "decadeTend.fixJockey()\n",
    "decadeTend.setTime()\n",
    "\n",
    "#インプット資材作成\n",
    "main = Exp()\n",
    "for ageCheck in tqdm(range(0,len(decadeURL),1)):    \n",
    "    main.create_exp(decadeURL[ageCheck],race,decadeTend)\n",
    "\n",
    "with pd.ExcelWriter(\"../race_data/\"+str(log_place)+str(log_ground)+str(log_meter)+\".xlsx\") as writer:\n",
    "    main.data_exp.to_excel(writer, sheet_name='sheet1')\n",
    "    \n",
    "\n",
    "with pd.ExcelWriter(\"../maxinfo/\"+str(log_place)+str(log_ground)+str(log_meter)+\".xlsx\") as writer:\n",
    "    race.data_max.to_excel(writer, sheet_name='sheet1')\n",
    "    race.maxinfoExp.to_excel(writer,sheet_name='sheet2')\n",
    "    \n",
    "\n",
    "with pd.ExcelWriter(\"../race_exp/\"+str(log_place)+str(log_ground)+str(log_meter)+\".xlsx\") as writer:\n",
    "    decadeTend.data_frame.to_excel(writer, sheet_name='sheet1')\n",
    "    decadeTend.data_jockey.to_excel(writer, sheet_name='sheet2')\n",
    "    decadeTend.data_blood.to_excel(writer, sheet_name='sheet3')\n",
    "    decadeTend.data_prev.to_excel(writer, sheet_name='sheet4')\n",
    "    decadeTend.data_jockey.to_excel(writer, sheet_name='sheet5')\n",
    "    decadeTend.timeInfo.to_excel(writer,sheet_name='sheet6')\n",
    "\n"
   ]
  },
  {
   "cell_type": "code",
   "execution_count": 172,
   "metadata": {},
   "outputs": [],
   "source": [
    "\n"
   ]
  },
  {
   "cell_type": "code",
   "execution_count": null,
   "metadata": {},
   "outputs": [],
   "source": []
  },
  {
   "cell_type": "code",
   "execution_count": null,
   "metadata": {},
   "outputs": [],
   "source": []
  },
  {
   "cell_type": "code",
   "execution_count": null,
   "metadata": {},
   "outputs": [],
   "source": []
  },
  {
   "cell_type": "code",
   "execution_count": 66,
   "metadata": {},
   "outputs": [],
   "source": []
  },
  {
   "cell_type": "code",
   "execution_count": null,
   "metadata": {},
   "outputs": [],
   "source": []
  },
  {
   "cell_type": "code",
   "execution_count": 145,
   "metadata": {},
   "outputs": [],
   "source": []
  },
  {
   "cell_type": "code",
   "execution_count": null,
   "metadata": {},
   "outputs": [],
   "source": []
  },
  {
   "cell_type": "code",
   "execution_count": 159,
   "metadata": {},
   "outputs": [
    {
     "name": "stderr",
     "output_type": "stream",
     "text": [
      "  0%|                                                                                           | 0/23 [00:00<?, ?it/s]"
     ]
    },
    {
     "name": "stdout",
     "output_type": "stream",
     "text": [
      "2010/12/29\n"
     ]
    },
    {
     "name": "stderr",
     "output_type": "stream",
     "text": [
      "  4%|███▌                                                                               | 1/23 [00:17<06:34, 17.94s/it]"
     ]
    },
    {
     "name": "stdout",
     "output_type": "stream",
     "text": [
      "2011/11/03\n"
     ]
    },
    {
     "name": "stderr",
     "output_type": "stream",
     "text": [
      "  9%|███████▏                                                                           | 2/23 [00:32<05:56, 16.99s/it]"
     ]
    },
    {
     "name": "stdout",
     "output_type": "stream",
     "text": [
      "2011/11/04\n"
     ]
    },
    {
     "name": "stderr",
     "output_type": "stream",
     "text": [
      " 13%|██████████▊                                                                        | 3/23 [00:48<05:34, 16.74s/it]"
     ]
    },
    {
     "name": "stdout",
     "output_type": "stream",
     "text": [
      "2011/12/29\n"
     ]
    },
    {
     "name": "stderr",
     "output_type": "stream",
     "text": [
      " 17%|██████████████▍                                                                    | 4/23 [01:03<05:04, 16.02s/it]"
     ]
    },
    {
     "name": "stdout",
     "output_type": "stream",
     "text": [
      "2012/12/29\n"
     ]
    },
    {
     "name": "stderr",
     "output_type": "stream",
     "text": [
      " 22%|██████████████████                                                                 | 5/23 [01:17<04:39, 15.55s/it]"
     ]
    },
    {
     "name": "stdout",
     "output_type": "stream",
     "text": [
      "2013/10/17\n"
     ]
    },
    {
     "name": "stderr",
     "output_type": "stream",
     "text": [
      " 26%|█████████████████████▋                                                             | 6/23 [01:29<04:07, 14.53s/it]"
     ]
    },
    {
     "name": "stdout",
     "output_type": "stream",
     "text": [
      "2013/12/29\n"
     ]
    },
    {
     "name": "stderr",
     "output_type": "stream",
     "text": [
      " 30%|█████████████████████████▎                                                         | 7/23 [01:41<03:40, 13.78s/it]"
     ]
    },
    {
     "name": "stdout",
     "output_type": "stream",
     "text": [
      "2014/10/21\n"
     ]
    },
    {
     "name": "stderr",
     "output_type": "stream",
     "text": [
      " 35%|████████████████████████████▊                                                      | 8/23 [01:51<03:10, 12.68s/it]"
     ]
    },
    {
     "name": "stdout",
     "output_type": "stream",
     "text": [
      "2014/12/29\n"
     ]
    },
    {
     "name": "stderr",
     "output_type": "stream",
     "text": [
      " 39%|████████████████████████████████▍                                                  | 9/23 [02:09<03:20, 14.29s/it]"
     ]
    },
    {
     "name": "stdout",
     "output_type": "stream",
     "text": [
      "2015/10/15\n"
     ]
    },
    {
     "name": "stderr",
     "output_type": "stream",
     "text": [
      " 43%|███████████████████████████████████▋                                              | 10/23 [02:20<02:52, 13.29s/it]"
     ]
    },
    {
     "name": "stdout",
     "output_type": "stream",
     "text": [
      "2015/11/03\n"
     ]
    },
    {
     "name": "stderr",
     "output_type": "stream",
     "text": [
      " 48%|███████████████████████████████████████▏                                          | 11/23 [02:40<03:02, 15.23s/it]"
     ]
    },
    {
     "name": "stdout",
     "output_type": "stream",
     "text": [
      "2015/12/29\n"
     ]
    },
    {
     "name": "stderr",
     "output_type": "stream",
     "text": [
      " 52%|██████████████████████████████████████████▊                                       | 12/23 [02:58<02:54, 15.89s/it]"
     ]
    },
    {
     "name": "stdout",
     "output_type": "stream",
     "text": [
      "2016/10/25\n"
     ]
    },
    {
     "name": "stderr",
     "output_type": "stream",
     "text": [
      " 57%|██████████████████████████████████████████████▎                                   | 13/23 [03:10<02:27, 14.76s/it]"
     ]
    },
    {
     "name": "stdout",
     "output_type": "stream",
     "text": [
      "2016/12/29\n"
     ]
    },
    {
     "name": "stderr",
     "output_type": "stream",
     "text": [
      " 61%|█████████████████████████████████████████████████▉                                | 14/23 [03:30<02:28, 16.45s/it]"
     ]
    },
    {
     "name": "stdout",
     "output_type": "stream",
     "text": [
      "2017/09/15\n"
     ]
    },
    {
     "name": "stderr",
     "output_type": "stream",
     "text": [
      " 65%|█████████████████████████████████████████████████████▍                            | 15/23 [03:40<01:54, 14.37s/it]"
     ]
    },
    {
     "name": "stdout",
     "output_type": "stream",
     "text": [
      "2017/11/03\n"
     ]
    },
    {
     "name": "stderr",
     "output_type": "stream",
     "text": [
      " 70%|█████████████████████████████████████████████████████████                         | 16/23 [03:57<01:46, 15.21s/it]"
     ]
    },
    {
     "name": "stdout",
     "output_type": "stream",
     "text": [
      "2017/11/14\n"
     ]
    },
    {
     "name": "stderr",
     "output_type": "stream",
     "text": [
      " 74%|████████████████████████████████████████████████████████████▌                     | 17/23 [04:07<01:22, 13.74s/it]"
     ]
    },
    {
     "name": "stdout",
     "output_type": "stream",
     "text": [
      "2017/11/17\n"
     ]
    },
    {
     "name": "stderr",
     "output_type": "stream",
     "text": [
      " 78%|████████████████████████████████████████████████████████████████▏                 | 18/23 [04:25<01:15, 15.08s/it]"
     ]
    },
    {
     "name": "stdout",
     "output_type": "stream",
     "text": [
      "2017/12/29\n"
     ]
    },
    {
     "name": "stderr",
     "output_type": "stream",
     "text": [
      " 83%|███████████████████████████████████████████████████████████████████▋              | 19/23 [04:42<01:02, 15.69s/it]"
     ]
    },
    {
     "name": "stdout",
     "output_type": "stream",
     "text": [
      "2018/10/30\n"
     ]
    },
    {
     "name": "stderr",
     "output_type": "stream",
     "text": [
      " 87%|███████████████████████████████████████████████████████████████████████▎          | 20/23 [04:54<00:43, 14.42s/it]"
     ]
    },
    {
     "name": "stdout",
     "output_type": "stream",
     "text": [
      "2018/12/29\n"
     ]
    },
    {
     "name": "stderr",
     "output_type": "stream",
     "text": [
      " 91%|██████████████████████████████████████████████████████████████████████████▊       | 21/23 [05:14<00:32, 16.10s/it]"
     ]
    },
    {
     "name": "stdout",
     "output_type": "stream",
     "text": [
      "2019/10/15\n"
     ]
    },
    {
     "name": "stderr",
     "output_type": "stream",
     "text": [
      " 96%|██████████████████████████████████████████████████████████████████████████████▍   | 22/23 [05:28<00:15, 15.58s/it]"
     ]
    },
    {
     "name": "stdout",
     "output_type": "stream",
     "text": [
      "2019/12/29\n"
     ]
    },
    {
     "name": "stderr",
     "output_type": "stream",
     "text": [
      "100%|██████████████████████████████████████████████████████████████████████████████████| 23/23 [05:43<00:00, 14.95s/it]\n"
     ]
    }
   ],
   "source": []
  },
  {
   "cell_type": "code",
   "execution_count": null,
   "metadata": {},
   "outputs": [],
   "source": []
  },
  {
   "cell_type": "code",
   "execution_count": null,
   "metadata": {},
   "outputs": [],
   "source": []
  }
 ],
 "metadata": {
  "kernelspec": {
   "display_name": "Python 3",
   "language": "python",
   "name": "python3"
  },
  "language_info": {
   "codemirror_mode": {
    "name": "ipython",
    "version": 3
   },
   "file_extension": ".py",
   "mimetype": "text/x-python",
   "name": "python",
   "nbconvert_exporter": "python",
   "pygments_lexer": "ipython3",
   "version": "3.8.3"
  }
 },
 "nbformat": 4,
 "nbformat_minor": 4
}
